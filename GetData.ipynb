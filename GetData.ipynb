{
 "cells": [
  {
   "cell_type": "code",
   "execution_count": 56,
   "id": "3b0965b6",
   "metadata": {},
   "outputs": [],
   "source": [
    "import requests\n",
    "import zipfile, urllib.request, shutil\n",
    "import os\n",
    "import io"
   ]
  },
  {
   "cell_type": "code",
   "execution_count": 80,
   "id": "5d33ea21",
   "metadata": {},
   "outputs": [],
   "source": [
    "url = \"https://dati-simc.arpae.it/opendata/eraclito/timeseries/01462/01462_\"\n",
    "resp = requests.get(url)"
   ]
  },
  {
   "cell_type": "code",
   "execution_count": 81,
   "id": "eebd2376",
   "metadata": {},
   "outputs": [
    {
     "data": {
      "text/plain": [
       "<Response [404]>"
      ]
     },
     "execution_count": 81,
     "metadata": {},
     "output_type": "execute_result"
    }
   ],
   "source": [
    "resp"
   ]
  },
  {
   "cell_type": "code",
   "execution_count": 79,
   "id": "e75f5f99",
   "metadata": {
    "scrolled": true
   },
   "outputs": [],
   "source": [
    "for year in range(1961, 2024):\n",
    "    new_url = url + str(year) + \".zip\"\n",
    "    local_file_path = os.getcwd() +str(year) + \".zip\"\n",
    "    local_file_path2 = os.getcwd()\n",
    "    data_path = local_file_path2+\"\\data\"\n",
    "\n",
    "    # Download the zip file from the URL\n",
    "    response = requests.get(new_url, stream=True)\n",
    "\n",
    "    # Check if the request was successful\n",
    "    if response.status_code == 200:\n",
    "        with open(local_file_path, 'wb') as file:\n",
    "            # Save the zip file locally\n",
    "            response.raw.decode_content = True\n",
    "            shutil.copyfileobj(response.raw, file)\n",
    "        \n",
    "        with zipfile.ZipFile(local_file_path, 'r') as zip_file:\n",
    "            zip_file.extractall(data_path)\n",
    "   "
   ]
  },
  {
   "cell_type": "code",
   "execution_count": null,
   "id": "d7c6e7bc",
   "metadata": {},
   "outputs": [],
   "source": []
  },
  {
   "cell_type": "code",
   "execution_count": null,
   "id": "1d067074",
   "metadata": {},
   "outputs": [],
   "source": []
  },
  {
   "cell_type": "code",
   "execution_count": null,
   "id": "3db6781d",
   "metadata": {},
   "outputs": [],
   "source": []
  },
  {
   "cell_type": "code",
   "execution_count": null,
   "id": "f77bd804",
   "metadata": {},
   "outputs": [],
   "source": []
  }
 ],
 "metadata": {
  "kernelspec": {
   "display_name": "Python 3 (ipykernel)",
   "language": "python",
   "name": "python3"
  },
  "language_info": {
   "codemirror_mode": {
    "name": "ipython",
    "version": 3
   },
   "file_extension": ".py",
   "mimetype": "text/x-python",
   "name": "python",
   "nbconvert_exporter": "python",
   "pygments_lexer": "ipython3",
   "version": "3.9.13"
  }
 },
 "nbformat": 4,
 "nbformat_minor": 5
}
