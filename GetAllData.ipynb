{
 "cells": [
  {
   "cell_type": "code",
   "execution_count": 17,
   "id": "50f32a90",
   "metadata": {},
   "outputs": [],
   "source": [
    "import requests\n",
    "import zipfile, urllib.request, shutil\n",
    "import os\n",
    "import io\n",
    "import pandas as pd"
   ]
  },
  {
   "cell_type": "code",
   "execution_count": 18,
   "id": "ea4c5e6a",
   "metadata": {},
   "outputs": [],
   "source": [
    "cells = pd.read_excel(\"Erg5_Eraclito_structure.xlsx\")\n",
    "cells.Code = cells.Code.astype(int)"
   ]
  },
  {
   "cell_type": "code",
   "execution_count": 19,
   "id": "f3612263",
   "metadata": {},
   "outputs": [],
   "source": [
    "def fix_cells(i):\n",
    "    return \"{:0>5}\".format(i)\n",
    "        \n",
    "cells[\"Code2\"] = cells.Code.apply(lambda x: fix_cells(x))        "
   ]
  },
  {
   "cell_type": "code",
   "execution_count": 20,
   "id": "91601306",
   "metadata": {},
   "outputs": [],
   "source": [
    "for cell in cells.Code2:\n",
    "    \n",
    "    url = \"https://dati-simc.arpae.it/opendata/eraclito/timeseries/\"\n",
    "   \n",
    "    for year in range(1961, 2024):\n",
    "        cell_url = str(cell) + \"/\" + str(cell) + \"_\"\n",
    "        new_url = url + cell_url + str(year) + \".zip\"\n",
    "      \n",
    "        local_file_path = os.getcwd() + \"/\" + str(cell) + \"/\" + str(year) + \".zip\"\n",
    "       \n",
    "        data_path = os.getcwd() + \"/\" + str(cell) + \"/\"\n",
    "\n",
    "        # Create the directory if it doesn't exist\n",
    "        os.makedirs(data_path, exist_ok=True)\n",
    "\n",
    "        # Download the zip file from the URL\n",
    "        response = requests.get(new_url, stream=True)\n",
    "\n",
    "        # Check if the request was successful\n",
    "        if response.status_code == 200:\n",
    "            with open(local_file_path, 'wb') as file:\n",
    "                # Save the zip file locally\n",
    "                response.raw.decode_content = True\n",
    "                shutil.copyfileobj(response.raw, file)\n",
    "\n",
    "            with zipfile.ZipFile(local_file_path, 'r') as zip_file:\n",
    "                zip_file.extractall(data_path)\n"
   ]
  },
  {
   "cell_type": "code",
   "execution_count": null,
   "id": "2f298fd7",
   "metadata": {},
   "outputs": [],
   "source": []
  },
  {
   "cell_type": "code",
   "execution_count": null,
   "id": "daf5e944",
   "metadata": {},
   "outputs": [],
   "source": []
  },
  {
   "cell_type": "code",
   "execution_count": null,
   "id": "41d67263",
   "metadata": {},
   "outputs": [],
   "source": []
  },
  {
   "cell_type": "code",
   "execution_count": null,
   "id": "a281da5e",
   "metadata": {},
   "outputs": [],
   "source": []
  },
  {
   "cell_type": "code",
   "execution_count": null,
   "id": "30f4ad50",
   "metadata": {
    "collapsed": true
   },
   "outputs": [],
   "source": []
  },
  {
   "cell_type": "code",
   "execution_count": null,
   "id": "cca71804",
   "metadata": {
    "collapsed": true
   },
   "outputs": [],
   "source": []
  }
 ],
 "metadata": {
  "kernelspec": {
   "display_name": "Python 3 (ipykernel)",
   "language": "python",
   "name": "python3"
  },
  "language_info": {
   "codemirror_mode": {
    "name": "ipython",
    "version": 3
   },
   "file_extension": ".py",
   "mimetype": "text/x-python",
   "name": "python",
   "nbconvert_exporter": "python",
   "pygments_lexer": "ipython3",
   "version": "3.9.13"
  }
 },
 "nbformat": 4,
 "nbformat_minor": 5
}
